{
 "cells": [
  {
   "cell_type": "code",
   "execution_count": 7,
   "metadata": {},
   "outputs": [],
   "source": [
    "import numpy as np\n",
    "import random \n",
    "import matplotlib.pyplot as plt\n",
    "CNOT_matrix=np.array([[1,0,0,0],\n",
    "                      [0,1,0,0],\n",
    "                      [0,0,0,1],\n",
    "                      [0,0,1,0]])\n",
    "hadamard=(1/(np.sqrt(2)))*np.array([[1, 1],[1,-1]])\n",
    "\n",
    "swap= np.array([[1,0,0,0],\n",
    "                [0,0,1,0],\n",
    "                [0,1,0,0],\n",
    "                [0,0,0,1]])\n",
    "\n",
    "qubit_0 =  np.array([1,0]).reshape(2,)\n",
    "qubit_1 =  np.array([0,1]).reshape(2,)\n",
    "qubit_00 = np.kron(qubit_0,qubit_0)\n",
    "qubit_11 = np.kron(qubit_1,qubit_1)\n",
    "c = random.random()\n",
    "c=complex(2,4)\n",
    "identity = np.identity(2)\n",
    "\n"
   ]
  },
  {
   "cell_type": "code",
   "execution_count": 15,
   "metadata": {},
   "outputs": [
    {
     "name": "stdout",
     "output_type": "stream",
     "text": [
      "[0.69171446+0.j         0.        +0.j         0.        +0.j\n",
      " 0.69171446+0.20751434j]\n",
      "[array([0.91588593-1.19391407e-18j]), array([0.99163614-1.28704185e-17j]), array([0.96779282+1.42162102e-18j]), array([0.99889373-4.00094977e-18j]), array([0.99559288-1.84684489e-21j]), array([0.99998041+2.33347317e-18j]), array([0.99992162+1.69883973e-21j]), array([0.99999999+9.5957761e-19j])]\n"
     ]
    },
    {
     "data": {
      "text/plain": [
       "[<matplotlib.lines.Line2D at 0x149e2537350>]"
      ]
     },
     "execution_count": 15,
     "metadata": {},
     "output_type": "execute_result"
    },
    {
     "data": {
      "image/png": "[encoded data removed]",
      "text/plain": [
       "<Figure size 640x480 with 1 Axes>"
      ]
     },
     "metadata": {},
     "output_type": "display_data"
    }
   ],
   "source": [
    "#initializing the state\n",
    "psi_complex = np.empty(4,dtype=complex)\n",
    "\n",
    "\n",
    "#taking the input of the state\n",
    "for i in range(4):\n",
    "    x=float(input(\"Element:\")) #taking input for the matrix of the state\n",
    "    \n",
    "    #taking the input for various values of c\n",
    "\n",
    "    choice = input(\"complex or real\")\n",
    "    if choice == \"complex\":\n",
    "        real_part = float(input(\"Enter the real part: \"))\n",
    "        imag_part = float(input(\"Enter the imaginary part: \"))\n",
    "        psi_complex[i] = complex(real_part, imag_part) * x\n",
    "        \n",
    "\n",
    "    elif choice == \"real\":\n",
    "        c = float(input(\"Enter the real coefficient: \"))\n",
    "        psi_complex[i] = complex(c,0) * x\n",
    "        \n",
    "        \n",
    "    else:\n",
    "        print(\"Invalid input\")\n",
    "        break\n",
    "\n",
    "psi_1=(psi_complex.reshape(4,))/np.linalg.norm(psi_complex)\n",
    "\n",
    "psi_2=psi_1\n",
    "\n",
    "print(psi_1)\n",
    "\n",
    "f = []\n",
    "\n",
    "for j in range(8):\n",
    "\n",
    "    for i in range(j+1):\n",
    "\n",
    "        psi = np.kron(psi_1,psi_2)\n",
    "        \n",
    "\n",
    "        #performing swap operation \n",
    "        swap_tensored =np.kron(identity,np.kron(swap,identity))\n",
    "        swaped_state= np.matmul(swap_tensored,psi)\n",
    "\n",
    "\n",
    "        #cnot operation on swapped qubits \n",
    "        cnot = np.kron(CNOT_matrix,CNOT_matrix)\n",
    "        state_after_cnot = np.matmul(cnot,swaped_state)\n",
    "\n",
    "        #swapping the states back \n",
    "        original_psi = np.matmul(swap_tensored,state_after_cnot)\n",
    "\n",
    "        #hadamard operation \n",
    "        tensored_hadamard = np.kron(hadamard,np.kron(hadamard,np.identity(4)))\n",
    "        final_state_after_hadamard =np.matmul(tensored_hadamard,original_psi)\n",
    "\n",
    "\n",
    "        #measurement\n",
    "        projector=np.array([[1,0],[0,0]])\n",
    "        projector_tensored = np.kron(np.identity(4),np.kron(projector,projector))\n",
    "\n",
    "        measured = np.dot(projector_tensored,final_state_after_hadamard)\n",
    "\n",
    "\n",
    "        #tracing out the measured copy\n",
    "        first_copy_of_the_state = np.trace(measured.reshape(2,2,2,2),axis1=2,axis2=3)\n",
    "\n",
    "\n",
    "        #creating bell state\n",
    "        bell_state = (np.array([[1],[0],[0],[1]]) * (1/ np.sqrt(2))).reshape(4,)\n",
    "\n",
    "\n",
    "        # preparation of density matrix of bell state and psi state by taking the outer product between the states\n",
    "        density_matrix_bell = np.outer((bell_state),np.conjugate(bell_state)) \n",
    "\n",
    "        #dividing by the trace of density matrix to make it 1\n",
    "        density_matrix_pp = np.outer(first_copy_of_the_state,np.conjugate(first_copy_of_the_state)) / np.trace(np.outer((first_copy_of_the_state),np.conjugate(first_copy_of_the_state)))\n",
    "\n",
    "\n",
    "        #calculation of fidelity\n",
    "        x = np.matmul(np.conjugate(bell_state.reshape(1,4)),np.matmul(density_matrix_pp,bell_state))\n",
    "        fidelity = x\n",
    "\n",
    "        psi_1 = first_copy_of_the_state.reshape(4,)\n",
    "        psi_2 = first_copy_of_the_state.reshape(4,)\n",
    "    \n",
    "    psi_1 = (psi_complex.reshape(4,))/np.linalg.norm(psi_complex)\n",
    "    psi_2 = psi_1\n",
    "    \n",
    "    f=f+[fidelity]\n",
    "\n",
    "print(f)      \n",
    "plt.plot(range(8),f)\n",
    "\n",
    "\n",
    "    \n",
    "\n",
    "\n",
    "\n",
    "\n"
   ]
  }
 ],
 "metadata": {
  "kernelspec": {
   "display_name": "Python 3",
   "language": "python",
   "name": "python3"
  },
  "language_info": {
   "codemirror_mode": {
    "name": "ipython",
    "version": 3
   },
   "file_extension": ".py",
   "mimetype": "text/x-python",
   "name": "python",
   "nbconvert_exporter": "python",
   "pygments_lexer": "ipython3",
   "version": "3.11.7"
  }
 },
 "nbformat": 4,
 "nbformat_minor": 2
}
