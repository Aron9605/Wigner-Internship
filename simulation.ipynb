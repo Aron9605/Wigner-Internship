{
 "cells": [
  {
   "cell_type": "code",
   "execution_count": 8,
   "metadata": {},
   "outputs": [
    {
     "data": {
      "text/plain": [
       "0.8866583978076755"
      ]
     },
     "execution_count": 8,
     "metadata": {},
     "output_type": "execute_result"
    }
   ],
   "source": [
    "import numpy as np\n",
    "import random\n",
    "qubit_0 =  np.array([1,0]).reshape(2,)\n",
    "qubit_1 =  np.array([0,1]).reshape(2,)\n",
    "qubit_000 = np.kron(np.kron(qubit_0,qubit_0),qubit_0)\n",
    "qubit_111 = np.kron(np.kron(qubit_1,qubit_1),qubit_1)\n",
    "c = random.random()\n",
    "c\n",
    "\n",
    "\n"
   ]
  },
  {
   "cell_type": "code",
   "execution_count": 11,
   "metadata": {},
   "outputs": [
    {
     "data": {
      "text/plain": [
       "array([0.74823745, 0.        , 0.        , 0.        , 0.        ,\n",
       "       0.        , 0.        , 0.66343102])"
      ]
     },
     "execution_count": 11,
     "metadata": {},
     "output_type": "execute_result"
    }
   ],
   "source": [
    "qubit_final=(qubit_000 + c* qubit_111) * np.sqrt((1/(1+c**2)))\n",
    "qubit_final"
   ]
  },
  {
   "cell_type": "code",
   "execution_count": 2,
   "metadata": {},
   "outputs": [],
   "source": [
    "import numpy as np\n",
    "CNOT_matrix=np.array([[1,0,0,0],\n",
    "                      [0,1,0,0],\n",
    "                      [0,0,0,1],\n",
    "                      [0,0,1,0]])\n",
    "CNOT_tensor=np.reshape(CNOT_matrix, (2,2,2,2)) # reshaping it to make it in same basis as psi\n",
    "H_matrix=(1/(np.sqrt(2)))*np.array([[1, 1],[1,-1]])\n",
    "\n",
    "\n"
   ]
  },
  {
   "cell_type": "code",
   "execution_count": 15,
   "metadata": {},
   "outputs": [
    {
     "data": {
      "text/plain": [
       "array([[[[0.5, 0. ],\n",
       "         [0. , 0. ]],\n",
       "\n",
       "        [[0.5, 0. ],\n",
       "         [0. , 0. ]]],\n",
       "\n",
       "\n",
       "       [[[0.5, 0. ],\n",
       "         [0. , 0. ]],\n",
       "\n",
       "        [[0.5, 0. ],\n",
       "         [0. , 0. ]]]])"
      ]
     },
     "execution_count": 15,
     "metadata": {},
     "output_type": "execute_result"
    }
   ],
   "source": [
    "\n",
    "psi_1=np.zeros((2,2)) \n",
    "psi_2 = np.zeros((2,2))\n",
    "psi_1[0,0] = psi_2[0,0] = 1 #psi_1 and psi_2 are 2d matrices with the 00 index as 1 (this gives me 00 qubit)\n",
    "\n",
    "psi= np.kron(psi_1,psi_2) #psi is the tensor of in four basis like |i>|j>|k>|l>\n",
    "psi=np.reshape(psi,(2,2,2,2)) #reshaping to 4 dimensional matrix to extract all indices in the basis ijkl\n",
    "\n",
    "# using the fact that ψ′ijkl=∑i′Xii′ψi′jkl. where X is a 2d operator\n",
    "\n",
    "psi=np.tensordot(CNOT_tensor,psi, ((2,3),(0,2))) #contraction 2nd index of cnot with 0th index of psi(0th qubit) and #contraction 3rd index of cnot with 2nd index of psi(2nd qubit)\n",
    "psi=np.tensordot(CNOT_tensor,psi, ((2,3),(1,3))) #similarly #contraction 2nd index of cnot with 1st index of psi(1st qubit) and #contraction 3rd index of cnot with 3rd index of psi(3rd qubit)\n",
    "\n",
    "psi = np.tensordot(H_matrix,psi,(1,0)) #contraction of 1st index of hadamard  with 0th index of psi\n",
    "psi = np.tensordot(H_matrix,psi,(1,1)) #contraction of 1st index of hadamard  with 1st index of psi\n",
    "\n",
    "projectors=[np.array([[1,0],[0,0]]),]\n",
    "\n",
    "projected_2nd_qubit=np.tensordot(projectors,psi,(1,2)) # to measure the 2nd qubit , contracted 1st index of projectors to 2nd index of psi, just like hadamard\n",
    "projected_3rd_qubit=np.tensordot(projectors,psi,(1,3)) # similar with the 3rd qubit\n",
    "\n",
    "\n",
    "\n",
    "psi\n",
    "\n",
    "\n",
    "\n"
   ]
  }
 ],
 "metadata": {
  "kernelspec": {
   "display_name": "Python 3",
   "language": "python",
   "name": "python3"
  },
  "language_info": {
   "codemirror_mode": {
    "name": "ipython",
    "version": 3
   },
   "file_extension": ".py",
   "mimetype": "text/x-python",
   "name": "python",
   "nbconvert_exporter": "python",
   "pygments_lexer": "ipython3",
   "version": "3.11.7"
  }
 },
 "nbformat": 4,
 "nbformat_minor": 2
}
