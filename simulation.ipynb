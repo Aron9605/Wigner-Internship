{
 "cells": [
  {
   "cell_type": "code",
   "execution_count": 1,
   "metadata": {},
   "outputs": [],
   "source": [
    "import numpy as np\n",
    "qubit_0 =  np.array([1,0]).reshape(2,1)\n",
    "qubit_1 =  np.array([0,1]).reshape(2,1)\n",
    "qubit_00= np.kron(qubit_0,qubit_0)\n",
    "qubit_11 = np.kron(qubit_1,qubit_1)\n",
    "qubit_000 = np.kron(np.kron(qubit_0,qubit_0),qubit_0)\n",
    "qubit_111 = np.kron(np.kron(qubit_1,qubit_1),qubit_1)\n",
    "identity= np.array([1,0,0,1]).reshape(2,2)\n",
    "p0 =  np.array([1,0,0,0]).reshape(2,2)\n",
    "p1=  np.array([0,0,0,1]).reshape(2,2)\n",
    "X = np.array([0,1,1,0]).reshape(2,2)\n",
    "hadamard = (1/(np.sqrt(2))) * np.array([1,1,1,-1]).reshape(2,2)\n",
    "cnot = np.kron(p0,identity) + ( np.kron(p1,X))\n",
    "\n",
    "\n",
    "\n",
    "\n"
   ]
  },
  {
   "cell_type": "code",
   "execution_count": 2,
   "metadata": {},
   "outputs": [
    {
     "data": {
      "text/plain": [
       "array([[0.70710678],\n",
       "       [0.        ],\n",
       "       [0.        ],\n",
       "       [0.        ],\n",
       "       [0.        ],\n",
       "       [0.        ],\n",
       "       [0.        ],\n",
       "       [0.70710678]])"
      ]
     },
     "execution_count": 2,
     "metadata": {},
     "output_type": "execute_result"
    }
   ],
   "source": [
    "s1= np.matmul(hadamard,qubit_0)\n",
    "s2=np.kron(s1,qubit_0)\n",
    "s3=np.matmul(cnot,s2)\n",
    "s4= np.kron(s3,qubit_0)\n",
    "ghz = np.vstack((s4[:4],np.matmul(cnot,s4[4:])))\n",
    "ghz"
   ]
  }
 ],
 "metadata": {
  "kernelspec": {
   "display_name": "Python 3",
   "language": "python",
   "name": "python3"
  },
  "language_info": {
   "codemirror_mode": {
    "name": "ipython",
    "version": 3
   },
   "file_extension": ".py",
   "mimetype": "text/x-python",
   "name": "python",
   "nbconvert_exporter": "python",
   "pygments_lexer": "ipython3",
   "version": "3.11.7"
  }
 },
 "nbformat": 4,
 "nbformat_minor": 2
}
