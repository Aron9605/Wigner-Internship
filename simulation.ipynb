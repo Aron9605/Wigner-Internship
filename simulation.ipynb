{
 "cells": [
  {
   "cell_type": "code",
   "execution_count": 3,
   "metadata": {},
   "outputs": [
    {
     "data": {
      "text/plain": [
       "0.9712576547423558"
      ]
     },
     "execution_count": 3,
     "metadata": {},
     "output_type": "execute_result"
    }
   ],
   "source": [
    "import numpy as np\n",
    "import random\n",
    "qubit_0 =  np.array([1,0]).reshape(2,)\n",
    "qubit_1 =  np.array([0,1]).reshape(2,)\n",
    "qubit_000 = np.kron(np.kron(qubit_0,qubit_0),qubit_0)\n",
    "qubit_111 = np.kron(np.kron(qubit_1,qubit_1),qubit_1)\n",
    "c = random.random()\n",
    "c\n",
    "\n",
    "\n"
   ]
  },
  {
   "cell_type": "code",
   "execution_count": 4,
   "metadata": {},
   "outputs": [
    {
     "data": {
      "text/plain": [
       "array([0.71734066, 0.        , 0.        , 0.        , 0.        ,\n",
       "       0.        , 0.        , 0.6967226 ])"
      ]
     },
     "execution_count": 4,
     "metadata": {},
     "output_type": "execute_result"
    }
   ],
   "source": [
    "qubit_final=(qubit_000 + c* qubit_111) * np.sqrt((1/(1+c**2)))\n",
    "qubit_final"
   ]
  },
  {
   "cell_type": "code",
   "execution_count": 2,
   "metadata": {},
   "outputs": [],
   "source": [
    "import numpy as np\n",
    "import random \n",
    "CNOT_matrix=np.array([[1,0,0,0],\n",
    "                      [0,1,0,0],\n",
    "                      [0,0,0,1],\n",
    "                      [0,0,1,0]])\n",
    "hadamard=(1/(np.sqrt(2)))*np.array([[1, 1],[1,-1]])\n",
    "\n",
    "swap= np.array([[1,0,0,0],\n",
    "                [0,0,1,0],\n",
    "                [0,1,0,0],\n",
    "                [0,0,0,1]])\n",
    "\n",
    "qubit_0 =  np.array([1,0]).reshape(2,)\n",
    "qubit_1 =  np.array([0,1]).reshape(2,)\n",
    "qubit_00 = np.kron(qubit_0,qubit_0)\n",
    "qubit_11 = np.kron(qubit_1,qubit_1)\n",
    "c = random.random()\n",
    "c=complex(2,4)\n",
    "identity = np.identity(2)\n",
    "\n"
   ]
  },
  {
   "cell_type": "code",
   "execution_count": 10,
   "metadata": {},
   "outputs": [
    {
     "name": "stdout",
     "output_type": "stream",
     "text": [
      "[-1.46782699e-03-2.98826440e-02j  2.23204790e-20+1.99995043e-21j\n",
      "  2.23204790e-20+1.99995043e-21j  9.57397501e-01+2.87219250e-01j]\n",
      "[0.49930396+1.87916659e-19j]\n",
      "[0.49860792+4.50812717e-20j]\n",
      "[0.50000067+1.70354307e-18j]\n",
      "[0.50000133+8.33496988e-23j]\n",
      "[0.5+2.42500367e-18j]\n"
     ]
    }
   ],
   "source": [
    "#initializing the state\n",
    "psi_complex = np.empty(4,dtype=complex)\n",
    "\n",
    "\n",
    "#taking the input of the state\n",
    "for i in range(4):\n",
    "    x=float(input(\"Element:\")) #taking input for the matrix of the state\n",
    "    \n",
    "    #taking the input for various values of c\n",
    "\n",
    "    choice = input(\"complex or real\")\n",
    "    if choice == \"complex\":\n",
    "        real_part = float(input(\"Enter the real part: \"))\n",
    "        imag_part = float(input(\"Enter the imaginary part: \"))\n",
    "        psi_complex[i] = complex(real_part, imag_part) * x\n",
    "        \n",
    "\n",
    "    elif choice == \"real\":\n",
    "        c = float(input(\"Enter the real coefficient: \"))\n",
    "        psi_complex[i] = complex(c,0) * x\n",
    "        \n",
    "        \n",
    "    else:\n",
    "        print(\"Invalid input\")\n",
    "        break\n",
    "\n",
    "psi_1=(psi_complex.reshape(4,))/np.linalg.norm(psi_complex)\n",
    "\n",
    "psi_2=psi_1\n",
    "\n",
    "print(psi_1)\n",
    "\n",
    "for i in range(int(input(\"no of iterations\"))):\n",
    "\n",
    "    psi = np.kron(psi_1,psi_2)\n",
    "    \n",
    "\n",
    "    #performing swap operation \n",
    "    swap_tensored =np.kron(identity,np.kron(swap,identity))\n",
    "    swaped_state= np.matmul(swap_tensored,psi)\n",
    "\n",
    "\n",
    "    #cnot operation on swapped qubits \n",
    "    cnot = np.kron(CNOT_matrix,CNOT_matrix)\n",
    "    state_after_cnot = np.matmul(cnot,swaped_state)\n",
    "\n",
    "    #swapping the states back \n",
    "    original_psi = np.matmul(swap_tensored,state_after_cnot)\n",
    "\n",
    "    #hadamard operation \n",
    "    tensored_hadamard = np.kron(hadamard,np.kron(hadamard,np.identity(4)))\n",
    "    final_state_after_hadamard =np.matmul(tensored_hadamard,original_psi)\n",
    "\n",
    "\n",
    "    #measurement\n",
    "    projector=np.array([[1,0],[0,0]])\n",
    "    projector_tensored = np.kron(np.identity(4),np.kron(projector,projector))\n",
    "\n",
    "    measured = np.dot(projector_tensored,final_state_after_hadamard)\n",
    "\n",
    "\n",
    "    #tracing out the measured copy\n",
    "    first_copy_of_the_state = np.trace(measured.reshape(2,2,2,2),axis1=2,axis2=3)\n",
    "\n",
    "\n",
    "    #creating bell state\n",
    "    bell_state = (np.array([[1],[0],[0],[1]]) * (1/ np.sqrt(2))).reshape(4,)\n",
    "\n",
    "\n",
    "    # preparation of density matrix of bell state and psi state by taking the outer product between the states\n",
    "    density_matrix_bell = np.outer((bell_state),np.conjugate(bell_state)) \n",
    "\n",
    "    #dividing by the trace of density matrix to make it 1\n",
    "    density_matrix_pp = np.outer(first_copy_of_the_state,np.conjugate(first_copy_of_the_state)) / np.trace(np.outer((first_copy_of_the_state),np.conjugate(first_copy_of_the_state)))\n",
    "\n",
    "\n",
    "    #calculation of fidelity\n",
    "    x = np.matmul(np.conjugate(bell_state.reshape(1,4)),np.matmul(density_matrix_pp,bell_state))\n",
    "    fidelity = x\n",
    "\n",
    "    psi_1 = first_copy_of_the_state.reshape(4,)\n",
    "    psi_2 = first_copy_of_the_state.reshape(4,)\n",
    "    \n",
    "    print(fidelity)\n",
    "\n",
    " \n",
    "\n",
    "\n",
    "\n",
    "\n"
   ]
  }
 ],
 "metadata": {
  "kernelspec": {
   "display_name": "Python 3",
   "language": "python",
   "name": "python3"
  },
  "language_info": {
   "codemirror_mode": {
    "name": "ipython",
    "version": 3
   },
   "file_extension": ".py",
   "mimetype": "text/x-python",
   "name": "python",
   "nbconvert_exporter": "python",
   "pygments_lexer": "ipython3",
   "version": "3.11.7"
  }
 },
 "nbformat": 4,
 "nbformat_minor": 2
}
