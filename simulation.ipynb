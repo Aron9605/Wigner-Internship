{
 "cells": [
  {
   "cell_type": "code",
   "execution_count": 8,
   "metadata": {},
   "outputs": [
    {
     "data": {
      "text/plain": [
       "0.8866583978076755"
      ]
     },
     "execution_count": 8,
     "metadata": {},
     "output_type": "execute_result"
    }
   ],
   "source": [
    "import numpy as np\n",
    "import random\n",
    "qubit_0 =  np.array([1,0]).reshape(2,)\n",
    "qubit_1 =  np.array([0,1]).reshape(2,)\n",
    "qubit_000 = np.kron(np.kron(qubit_0,qubit_0),qubit_0)\n",
    "qubit_111 = np.kron(np.kron(qubit_1,qubit_1),qubit_1)\n",
    "c = random.random()\n",
    "c\n",
    "\n",
    "\n"
   ]
  },
  {
   "cell_type": "code",
   "execution_count": 11,
   "metadata": {},
   "outputs": [
    {
     "data": {
      "text/plain": [
       "array([0.74823745, 0.        , 0.        , 0.        , 0.        ,\n",
       "       0.        , 0.        , 0.66343102])"
      ]
     },
     "execution_count": 11,
     "metadata": {},
     "output_type": "execute_result"
    }
   ],
   "source": [
    "qubit_final=(qubit_000 + c* qubit_111) * np.sqrt((1/(1+c**2)))\n",
    "qubit_final"
   ]
  },
  {
   "cell_type": "code",
   "execution_count": 13,
   "metadata": {},
   "outputs": [
    {
     "data": {
      "text/plain": [
       "array([[ 0.70710678,  0.70710678],\n",
       "       [ 0.70710678, -0.70710678]])"
      ]
     },
     "execution_count": 13,
     "metadata": {},
     "output_type": "execute_result"
    }
   ],
   "source": [
    "import numpy as np\n",
    "CNOT_matrix=np.array([[1,0,0,0],\n",
    "                      [0,1,0,0],\n",
    "                      [0,0,0,1],\n",
    "                      [0,0,1,0]])\n",
    "CNOT_tensor=np.reshape(CNOT_matrix, (2,2,2,2))\n",
    "H_matrix=(1/(np.sqrt(2)))*np.array([[1, 1],[1,-1]])\n",
    "H_matrix"
   ]
  },
  {
   "cell_type": "code",
   "execution_count": 15,
   "metadata": {},
   "outputs": [
    {
     "data": {
      "text/plain": [
       "array([[[[0.5, 0. ],\n",
       "         [0. , 0. ]],\n",
       "\n",
       "        [[0.5, 0. ],\n",
       "         [0. , 0. ]]],\n",
       "\n",
       "\n",
       "       [[[0.5, 0. ],\n",
       "         [0. , 0. ]],\n",
       "\n",
       "        [[0.5, 0. ],\n",
       "         [0. , 0. ]]]])"
      ]
     },
     "execution_count": 15,
     "metadata": {},
     "output_type": "execute_result"
    }
   ],
   "source": [
    "\n",
    "psi_1=np.zeros((2,2))\n",
    "psi_2 = np.zeros((2,2))\n",
    "psi_1[0,0] = psi_2[0,0] = 1\n",
    "psi= np.kron(psi_1,psi_2)\n",
    "psi=np.reshape(psi,(2,2,2,2))\n",
    "\n",
    "psi=np.tensordot(CNOT_tensor,psi, ((2,3),(0,2))) \n",
    "psi=np.tensordot(CNOT_tensor,psi, ((2,3),(1,3)))\n",
    "\n",
    "psi = np.tensordot(H_matrix,psi,(1,0))\n",
    "psi = np.tensordot(H_matrix,psi,(1,1))\n",
    "\n",
    "projectors=[np.array([[1,0],[0,0]]), np.array([[0,0],[0,1]])]\n",
    "projected_2nd_qubit=np.tensordot(projectors[0],psi,(1,2))\n",
    "projected_3rd_qubit=np.tensordot(projectors[0],psi,(1,3))\n",
    "\n",
    "\n",
    "\n",
    "psi\n",
    "\n",
    "\n",
    "\n"
   ]
  }
 ],
 "metadata": {
  "kernelspec": {
   "display_name": "Python 3",
   "language": "python",
   "name": "python3"
  },
  "language_info": {
   "codemirror_mode": {
    "name": "ipython",
    "version": 3
   },
   "file_extension": ".py",
   "mimetype": "text/x-python",
   "name": "python",
   "nbconvert_exporter": "python",
   "pygments_lexer": "ipython3",
   "version": "3.11.7"
  }
 },
 "nbformat": 4,
 "nbformat_minor": 2
}
