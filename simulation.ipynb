{
 "cells": [
  {
   "cell_type": "code",
   "execution_count": 3,
   "metadata": {},
   "outputs": [
    {
     "data": {
      "text/plain": [
       "0.9712576547423558"
      ]
     },
     "execution_count": 3,
     "metadata": {},
     "output_type": "execute_result"
    }
   ],
   "source": [
    "import numpy as np\n",
    "import random\n",
    "qubit_0 =  np.array([1,0]).reshape(2,)\n",
    "qubit_1 =  np.array([0,1]).reshape(2,)\n",
    "qubit_000 = np.kron(np.kron(qubit_0,qubit_0),qubit_0)\n",
    "qubit_111 = np.kron(np.kron(qubit_1,qubit_1),qubit_1)\n",
    "c = random.random()\n",
    "c\n",
    "\n",
    "\n"
   ]
  },
  {
   "cell_type": "code",
   "execution_count": 4,
   "metadata": {},
   "outputs": [
    {
     "data": {
      "text/plain": [
       "array([0.71734066, 0.        , 0.        , 0.        , 0.        ,\n",
       "       0.        , 0.        , 0.6967226 ])"
      ]
     },
     "execution_count": 4,
     "metadata": {},
     "output_type": "execute_result"
    }
   ],
   "source": [
    "qubit_final=(qubit_000 + c* qubit_111) * np.sqrt((1/(1+c**2)))\n",
    "qubit_final"
   ]
  },
  {
   "cell_type": "code",
   "execution_count": 2,
   "metadata": {},
   "outputs": [
    {
     "data": {
      "text/plain": [
       "0.33642526038329723"
      ]
     },
     "execution_count": 2,
     "metadata": {},
     "output_type": "execute_result"
    }
   ],
   "source": [
    "import numpy as np\n",
    "import random \n",
    "CNOT_matrix=np.array([[1,0,0,0],\n",
    "                      [0,1,0,0],\n",
    "                      [0,0,0,1],\n",
    "                      [0,0,1,0]])\n",
    "hadamard=(1/(np.sqrt(2)))*np.array([[1, 1],[1,-1]])\n",
    "\n",
    "swap= np.array([[1,0,0,0],\n",
    "                [0,0,1,0],\n",
    "                [0,1,0,0],\n",
    "                [0,0,0,1]])\n",
    "\n",
    "qubit_0 =  np.array([1,0]).reshape(2,)\n",
    "qubit_1 =  np.array([0,1]).reshape(2,)\n",
    "qubit_00 = np.kron(qubit_0,qubit_0)\n",
    "qubit_11 = np.kron(qubit_1,qubit_1)\n",
    "c = random.random()\n",
    "c\n",
    "\n",
    "\n"
   ]
  },
  {
   "cell_type": "code",
   "execution_count": 5,
   "metadata": {},
   "outputs": [
    {
     "data": {
      "text/plain": [
       "(array([5.00000000e-01, 0.00000000e+00, 0.00000000e+00, 3.02219470e-01,\n",
       "        3.98325736e-01, 0.00000000e+00, 0.00000000e+00, 5.79752576e-18,\n",
       "        3.98325736e-01, 0.00000000e+00, 0.00000000e+00, 5.79752576e-18,\n",
       "        5.00000000e-01, 0.00000000e+00, 0.00000000e+00, 3.02219470e-01]),\n",
       " array([[0.80221947, 0.39832574],\n",
       "        [0.39832574, 0.80221947]]),\n",
       " array([0.81732678]),\n",
       " array([0.89566705]))"
      ]
     },
     "execution_count": 5,
     "metadata": {},
     "output_type": "execute_result"
    }
   ],
   "source": [
    "identity = np.identity(2)\n",
    "\n",
    "#prepration of 4 qubit state |1010>\n",
    "psi_1 = ((qubit_00 + c* qubit_11) * np.sqrt((1/(1+c**2)))).reshape(4,)\n",
    "psi_2 = ((qubit_00 + c* qubit_11) * np.sqrt((1/(1+c**2)))).reshape(4,)\n",
    "psi = np.kron(psi_1,psi_2)\n",
    "\n",
    "#performing swap operation |1010> -> |1100>\n",
    "swap_tensored =np.kron(identity,np.kron(swap,identity))\n",
    "swaped_state= np.matmul(swap_tensored,psi)\n",
    "\n",
    "\n",
    "#cnot operation on swapped qubits |1100> -> |1000>\n",
    "cnot = np.kron(CNOT_matrix,CNOT_matrix)\n",
    "state_after_cnot = np.matmul(cnot,swaped_state)\n",
    "\n",
    "#swapping the states back |1000> -> |1000>\n",
    "original_psi = np.matmul(swap_tensored,state_after_cnot)\n",
    "\n",
    "#hadamard operation |1000> -> |0000> + |0100> - |1000> - |1100>\n",
    "tensored_hadamard = np.kron(hadamard,np.kron(hadamard,np.identity(4)))\n",
    "final_state_after_hadamard =np.matmul(tensored_hadamard,original_psi)\n",
    "\n",
    "\n",
    "#measurement\n",
    "projector=np.array([[1,0],[0,0]])\n",
    "projector_tensored = np.kron(np.identity(4),np.kron(projector,projector))\n",
    "\n",
    "probablity = np.dot(final_state_after_hadamard.reshape(1,16),np.dot(projector_tensored,final_state_after_hadamard))\n",
    "\n",
    "\n",
    "#tracing out the measured copy\n",
    "first_copy_of_the_state = np.trace(final_state_after_hadamard.reshape(2,2,2,2),axis1=2,axis2=3)\n",
    "\n",
    "\n",
    "#creating bell state\n",
    "bell_state = (np.array([[1],[0],[0],[1]]) * (1/ np.sqrt(2))).reshape(4,)\n",
    "\n",
    "\n",
    "# preparation of density matrix of bell state and psi state by taking the outer product between the states\n",
    "density_matrix_bell = np.outer(bell_state,bell_state) \n",
    "\n",
    "#dividing by the trace of density matrix to make it 1\n",
    "density_matrix_pp = np.outer(first_copy_of_the_state,first_copy_of_the_state) / np.trace(np.outer(first_copy_of_the_state,first_copy_of_the_state))\n",
    "\n",
    "\n",
    "#calculation of fidelity\n",
    "x = np.matmul(bell_state.reshape(1,4),np.matmul(density_matrix_pp,bell_state))\n",
    "fidelity = np.sqrt(x)\n",
    "\n",
    "\n",
    "\n",
    "final_state_after_hadamard , first_copy_of_the_state, probablity , fidelity, \n",
    "\n",
    "\n",
    "\n",
    "\n"
   ]
  }
 ],
 "metadata": {
  "kernelspec": {
   "display_name": "Python 3",
   "language": "python",
   "name": "python3"
  },
  "language_info": {
   "codemirror_mode": {
    "name": "ipython",
    "version": 3
   },
   "file_extension": ".py",
   "mimetype": "text/x-python",
   "name": "python",
   "nbconvert_exporter": "python",
   "pygments_lexer": "ipython3",
   "version": "3.11.7"
  }
 },
 "nbformat": 4,
 "nbformat_minor": 2
}
