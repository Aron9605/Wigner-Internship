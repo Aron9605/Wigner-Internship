{
 "cells": [
  {
   "cell_type": "code",
   "execution_count": 3,
   "metadata": {},
   "outputs": [
    {
     "data": {
      "text/plain": [
       "0.9712576547423558"
      ]
     },
     "execution_count": 3,
     "metadata": {},
     "output_type": "execute_result"
    }
   ],
   "source": [
    "import numpy as np\n",
    "import random\n",
    "qubit_0 =  np.array([1,0]).reshape(2,)\n",
    "qubit_1 =  np.array([0,1]).reshape(2,)\n",
    "qubit_000 = np.kron(np.kron(qubit_0,qubit_0),qubit_0)\n",
    "qubit_111 = np.kron(np.kron(qubit_1,qubit_1),qubit_1)\n",
    "c = random.random()\n",
    "c\n",
    "\n",
    "\n"
   ]
  },
  {
   "cell_type": "code",
   "execution_count": 4,
   "metadata": {},
   "outputs": [
    {
     "data": {
      "text/plain": [
       "array([0.71734066, 0.        , 0.        , 0.        , 0.        ,\n",
       "       0.        , 0.        , 0.6967226 ])"
      ]
     },
     "execution_count": 4,
     "metadata": {},
     "output_type": "execute_result"
    }
   ],
   "source": [
    "qubit_final=(qubit_000 + c* qubit_111) * np.sqrt((1/(1+c**2)))\n",
    "qubit_final"
   ]
  },
  {
   "cell_type": "code",
   "execution_count": 2,
   "metadata": {},
   "outputs": [],
   "source": [
    "import numpy as np\n",
    "CNOT_matrix=np.array([[1,0,0,0],\n",
    "                      [0,1,0,0],\n",
    "                      [0,0,0,1],\n",
    "                      [0,0,1,0]])\n",
    "hadamard=(1/(np.sqrt(2)))*np.array([[1, 1],[1,-1]])\n",
    "\n",
    "swap= np.array([[1,0,0,0],\n",
    "                [0,0,1,0],\n",
    "                [0,1,0,0],\n",
    "                [0,0,0,1]])\n",
    "\n"
   ]
  },
  {
   "cell_type": "code",
   "execution_count": 4,
   "metadata": {},
   "outputs": [
    {
     "data": {
      "text/plain": [
       "(array([0.25]),\n",
       " array([0.]),\n",
       " array([ 0.5,  0. ,  0. ,  0. ,  0.5,  0. ,  0. ,  0. , -0.5,  0. ,  0. ,\n",
       "         0. , -0.5,  0. ,  0. ,  0. ]))"
      ]
     },
     "execution_count": 4,
     "metadata": {},
     "output_type": "execute_result"
    }
   ],
   "source": [
    "identity = np.identity(2)\n",
    "#prepration of 4 qubit state |1010>\n",
    "psi_1 =  np.array([[0],[0],[1],[0]]).reshape(4,)\n",
    "psi_2 =  np.array([[0],[0],[1],[0]]).reshape(4,)\n",
    "psi = np.kron(psi_1,psi_2)\n",
    "\n",
    "#performing swap operation |1010> -> |1100>\n",
    "swap_tensored =np.kron(identity,np.kron(swap,identity))\n",
    "swaped_state= np.matmul(swap_tensored,psi)\n",
    "\n",
    "\n",
    "#cnot operation on swapped qubits |1100> -> |1000>\n",
    "cnot = np.kron(CNOT_matrix,CNOT_matrix)\n",
    "state_after_cnot = np.matmul(cnot,swaped_state)\n",
    "\n",
    "#swapping the states back |1000> -> |1000>\n",
    "original_psi = np.matmul(swap_tensored,state_after_cnot)\n",
    "\n",
    "#hadamard operation |1000> -> |0000> + |0100> - |1000> - |1100>\n",
    "tensored_hadamard = np.kron(hadamard,np.kron(hadamard,np.identity(4)))\n",
    "final_state_after_hadamard =np.matmul(tensored_hadamard,original_psi)\n",
    "\n",
    "final_state_after_hadamard\n",
    "\n",
    "#creating bell state\n",
    "bell_1 = (np.array([[1],[0],[0],[1]]) * (1/ np.sqrt(2))).reshape(4,)\n",
    "bell_2 = (np.array([[1],[0],[0],[1]]) * (1/ np.sqrt(2))).reshape(4,)\n",
    "\n",
    "bell_state = np.kron(bell_1,bell_2) # making it a 4 qubit system\n",
    "\n",
    "# preparation of density matrix of bell state and psi state by taking the outer product between the states\n",
    "density_matrix_bell = np.outer(bell_state,bell_state) \n",
    "density_matrix_pp = np.outer(final_state_after_hadamard,final_state_after_hadamard)\n",
    "\n",
    "\n",
    "#calculation of fidelity\n",
    "x = np.matmul(bell_state.reshape(1,16),np.matmul(density_matrix_pp,bell_state))\n",
    "fidelity = np.sqrt(x)\n",
    "\n",
    "#measurement\n",
    "projector=np.array([[1,0],[0,0]])\n",
    "projector_tensored = np.array([[1,0],[0,0]])\n",
    "for i in range(3):\n",
    " projector_tensored= np.kron(projector,projector_tensored)\n",
    "\n",
    "probablity = np.dot(final_state_after_hadamard.reshape(1,16),np.dot(projector_tensored,final_state_after_hadamard))\n",
    "\n",
    "probablity , fidelity, final_state_after_hadamard\n",
    "\n",
    "\n",
    "\n",
    "\n"
   ]
  }
 ],
 "metadata": {
  "kernelspec": {
   "display_name": "Python 3",
   "language": "python",
   "name": "python3"
  },
  "language_info": {
   "codemirror_mode": {
    "name": "ipython",
    "version": 3
   },
   "file_extension": ".py",
   "mimetype": "text/x-python",
   "name": "python",
   "nbconvert_exporter": "python",
   "pygments_lexer": "ipython3",
   "version": "3.11.7"
  }
 },
 "nbformat": 4,
 "nbformat_minor": 2
}
