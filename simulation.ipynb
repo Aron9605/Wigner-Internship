{
 "cells": [
  {
   "cell_type": "code",
   "execution_count": 3,
   "metadata": {},
   "outputs": [
    {
     "data": {
      "text/plain": [
       "0.9712576547423558"
      ]
     },
     "execution_count": 3,
     "metadata": {},
     "output_type": "execute_result"
    }
   ],
   "source": [
    "import numpy as np\n",
    "import random\n",
    "qubit_0 =  np.array([1,0]).reshape(2,)\n",
    "qubit_1 =  np.array([0,1]).reshape(2,)\n",
    "qubit_000 = np.kron(np.kron(qubit_0,qubit_0),qubit_0)\n",
    "qubit_111 = np.kron(np.kron(qubit_1,qubit_1),qubit_1)\n",
    "c = random.random()\n",
    "c\n",
    "\n",
    "\n"
   ]
  },
  {
   "cell_type": "code",
   "execution_count": 4,
   "metadata": {},
   "outputs": [
    {
     "data": {
      "text/plain": [
       "array([0.71734066, 0.        , 0.        , 0.        , 0.        ,\n",
       "       0.        , 0.        , 0.6967226 ])"
      ]
     },
     "execution_count": 4,
     "metadata": {},
     "output_type": "execute_result"
    }
   ],
   "source": [
    "qubit_final=(qubit_000 + c* qubit_111) * np.sqrt((1/(1+c**2)))\n",
    "qubit_final"
   ]
  },
  {
   "cell_type": "code",
   "execution_count": 8,
   "metadata": {},
   "outputs": [],
   "source": [
    "import numpy as np\n",
    "import random \n",
    "CNOT_matrix=np.array([[1,0,0,0],\n",
    "                      [0,1,0,0],\n",
    "                      [0,0,0,1],\n",
    "                      [0,0,1,0]])\n",
    "hadamard=(1/(np.sqrt(2)))*np.array([[1, 1],[1,-1]])\n",
    "\n",
    "swap= np.array([[1,0,0,0],\n",
    "                [0,0,1,0],\n",
    "                [0,1,0,0],\n",
    "                [0,0,0,1]])\n",
    "\n",
    "qubit_0 =  np.array([1,0]).reshape(2,)\n",
    "qubit_1 =  np.array([0,1]).reshape(2,)\n",
    "qubit_00 = np.kron(qubit_0,qubit_0)\n",
    "qubit_11 = np.kron(qubit_1,qubit_1)\n",
    "c = random.random()\n",
    "c=complex(2,4)\n",
    "identity = np.identity(2)\n",
    "\n"
   ]
  },
  {
   "cell_type": "code",
   "execution_count": 7,
   "metadata": {},
   "outputs": [
    {
     "data": {
      "text/plain": [
       "(array([ 6.40000000e+01, -3.15544362e-29, -3.15544362e-29,  6.40000000e+01,\n",
       "        -3.47098798e-29, -3.50324616e-46, -3.50324616e-46, -3.47098798e-29,\n",
       "        -3.47098798e-29, -3.50324616e-46, -3.50324616e-46, -3.47098798e-29,\n",
       "         6.40000000e+01,  3.50324616e-46,  3.50324616e-46,  6.40000000e+01]),\n",
       " array([[ 1.28000000e+02, -6.94197597e-29],\n",
       "        [-6.94197597e-29,  1.28000000e+02]]),\n",
       " array([8192.]),\n",
       " array([1.]))"
      ]
     },
     "execution_count": 7,
     "metadata": {},
     "output_type": "execute_result"
    }
   ],
   "source": [
    "#initializing the state\n",
    "psi_complex = np.empty(4,dtype=complex)\n",
    "psi_real = np.empty(4,dtype=float)\n",
    "\n",
    "#taking the input of the state\n",
    "for i in range(4):\n",
    "    x=float(input(\"Element:\")) #taking input for the matrix of the state\n",
    "    \n",
    "    #taking the input for various values of c\n",
    "\n",
    "    choice = input(\"complex or real\")\n",
    "    if choice == \"complex\":\n",
    "        c = complex(float(input(\"x\")),float(input(\"y\")))\n",
    "        psi_complex[i]=c*x\n",
    "        psi_1=(psi_complex.reshape(4,))/np.linalg.norm(psi_complex)\n",
    "\n",
    "\n",
    "    elif choice == \"real\":\n",
    "        c= float(input(\"Enter the real coefficent\"))\n",
    "        psi_real[i]=c*x\n",
    "        psi_1=(psi_real.reshape(4,))/np.linalg.norm(psi_real)\n",
    "\n",
    "        \n",
    "    else:\n",
    "        print(\"Invalid input\")\n",
    "        break\n",
    "\n",
    "\n",
    "psi_2=psi_1\n",
    "\n",
    "for i in range(int(input(\"no of iterations\"))):\n",
    "\n",
    "    psi = np.kron(psi_1,psi_2)\n",
    "    \n",
    "\n",
    "    #performing swap operation \n",
    "    swap_tensored =np.kron(identity,np.kron(swap,identity))\n",
    "    swaped_state= np.matmul(swap_tensored,psi)\n",
    "\n",
    "\n",
    "    #cnot operation on swapped qubits \n",
    "    cnot = np.kron(CNOT_matrix,CNOT_matrix)\n",
    "    state_after_cnot = np.matmul(cnot,swaped_state)\n",
    "\n",
    "    #swapping the states back \n",
    "    original_psi = np.matmul(swap_tensored,state_after_cnot)\n",
    "\n",
    "    #hadamard operation \n",
    "    tensored_hadamard = np.kron(hadamard,np.kron(hadamard,np.identity(4)))\n",
    "    final_state_after_hadamard =np.matmul(tensored_hadamard,original_psi)\n",
    "\n",
    "\n",
    "    #measurement\n",
    "    projector=np.array([[1,0],[0,0]])\n",
    "    projector_tensored = np.kron(np.identity(4),np.kron(projector,projector))\n",
    "\n",
    "    probablity = np.dot(np.conjugate(final_state_after_hadamard.reshape(1,16)),np.dot(projector_tensored,final_state_after_hadamard))\n",
    "\n",
    "\n",
    "    #tracing out the measured copy\n",
    "    first_copy_of_the_state = np.trace(final_state_after_hadamard.reshape(2,2,2,2),axis1=2,axis2=3)\n",
    "\n",
    "\n",
    "    #creating bell state\n",
    "    bell_state = (np.array([[1],[0],[0],[1]]) * (1/ np.sqrt(2))).reshape(4,)\n",
    "\n",
    "\n",
    "    # preparation of density matrix of bell state and psi state by taking the outer product between the states\n",
    "    density_matrix_bell = np.outer(np.conjugate(bell_state),bell_state) \n",
    "\n",
    "    #dividing by the trace of density matrix to make it 1\n",
    "    density_matrix_pp = np.outer(np.conjugate(first_copy_of_the_state),first_copy_of_the_state) / np.trace(np.outer(np.conjugate(first_copy_of_the_state),first_copy_of_the_state))\n",
    "\n",
    "\n",
    "    #calculation of fidelity\n",
    "    x = np.matmul(np.conjugate(bell_state.reshape(1,4)),np.matmul(density_matrix_pp,bell_state))\n",
    "    fidelity = x\n",
    "\n",
    "    psi_1 = first_copy_of_the_state.reshape(4,)\n",
    "    psi_2 = first_copy_of_the_state.reshape(4,)\n",
    "    \n",
    "\n",
    "\n",
    "\n",
    "final_state_after_hadamard , first_copy_of_the_state, probablity , fidelity, \n",
    "\n",
    "\n",
    "\n",
    "\n"
   ]
  }
 ],
 "metadata": {
  "kernelspec": {
   "display_name": "Python 3",
   "language": "python",
   "name": "python3"
  },
  "language_info": {
   "codemirror_mode": {
    "name": "ipython",
    "version": 3
   },
   "file_extension": ".py",
   "mimetype": "text/x-python",
   "name": "python",
   "nbconvert_exporter": "python",
   "pygments_lexer": "ipython3",
   "version": "3.11.7"
  }
 },
 "nbformat": 4,
 "nbformat_minor": 2
}
